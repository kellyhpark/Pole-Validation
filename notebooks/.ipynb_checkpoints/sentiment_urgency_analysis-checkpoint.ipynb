{
 "cells": [
  {
   "cell_type": "markdown",
   "id": "868423c1-7cc3-4cff-87a2-cde15fae93f3",
   "metadata": {},
   "source": [
    "# SENTIMENT AND URGENCY TEXT ANALYSIS"
   ]
  },
  {
   "cell_type": "markdown",
   "id": "ababcd2b-e761-4bfb-a1f4-2cd477cbc8d0",
   "metadata": {},
   "source": [
    "## 1. Introduction"
   ]
  },
  {
   "cell_type": "markdown",
   "id": "0287d8de-161d-48a2-b746-7ffe7a8bd425",
   "metadata": {},
   "source": [
    "### Objective\n",
    "While the app's main functionality centers on capturing and analyzing images of utility poles for maintenance and safety concerns, the integrated text box feature serves a crucial supplementary role, it allows customers to provide additional context, report specific issues, and express their concerns or feedback regarding the utility services.\n",
    "\n",
    "To maximize the utility of this textual input, we plan to implement these analytical strategies:\n",
    "- Using VADER for Sentiment Polarity - This will enable us to understand the customer's emotional tone, whether they are expressing positive, neutral, or negative emotions regarding the utility services or reported issues.\n",
    "- Implementing an Urgency Score System - This system will prioritize issues that require immediate attention, such as outages, emergencies, or safety hazards.\n"
   ]
  },
  {
   "cell_type": "markdown",
   "id": "1702714a-f9e4-494b-bbb0-3d1674ee8940",
   "metadata": {},
   "source": [
    "### Dataset Description"
   ]
  },
  {
   "cell_type": "markdown",
   "id": "212a6d0d-f56c-4168-a0b3-e9a47470ed9b",
   "metadata": {},
   "source": [
    "This project utilizes the HumAID Twitter dataset, which consists of manually annotated tweets collected during eleven significant natural disaster events from 2016 to 2019. \n",
    "We use this HumAID Twitter dataset as a stand-in for actual customer data from SDG&E due to the current lack of available customer interactions. Our approach utilizes these annotated tweets as a proxy to develop and refine our sentiment analysis and topic classification models.\n",
    "\n",
    "Link: https://crisisnlp.qcri.org/humaid_dataset\n",
    "\n",
    "The dataset is organized into separate folders for each of the following natural disaster events:\n",
    "\n",
    "- Canada Wildfires (2016)\n",
    "- Cyclone Idai (2019)\n",
    "- Ecuador Earthquake (2016)\n",
    "- Hurricane Harvey (2017)\n",
    "- Hurricane Irma (2017)\n",
    "- Hurricane Maria (2017)\n",
    "- Hurricane Matthew (2016)\n",
    "- Italy Earthquake (August 2016)\n",
    "- Kaikoura Earthquake (2016)\n",
    "- Puebla Mexico Earthquake (2017)\n",
    "- Sri Lanka Floods (2017)\n",
    "\n",
    "For each event, the dataset is divided into three subsets: Training Set, Validation Set and Test Set.\n",
    "\n",
    "Each subset consists of tab-separated values (TSV) files containing 3 columns: tweet_id, tweet_text, class_label."
   ]
  },
  {
   "cell_type": "markdown",
   "id": "b8ed1dd8-0a2b-407e-b37d-2c77b026c21c",
   "metadata": {},
   "source": [
    "## 2. Setup"
   ]
  },
  {
   "cell_type": "markdown",
   "id": "3b7f3870-f7dd-41a6-8e60-29d045548686",
   "metadata": {},
   "source": [
    "### Library Imports"
   ]
  },
  {
   "cell_type": "code",
   "execution_count": 1,
   "id": "678e9ebe-a3f6-41e8-844b-66c4260a0f49",
   "metadata": {},
   "outputs": [
    {
     "name": "stderr",
     "output_type": "stream",
     "text": [
      "[nltk_data] Downloading package vader_lexicon to\n",
      "[nltk_data]     C:\\Users\\19495\\AppData\\Roaming\\nltk_data...\n",
      "[nltk_data]   Package vader_lexicon is already up-to-date!\n",
      "[nltk_data] Downloading package wordnet to\n",
      "[nltk_data]     C:\\Users\\19495\\AppData\\Roaming\\nltk_data...\n",
      "[nltk_data]   Package wordnet is already up-to-date!\n"
     ]
    }
   ],
   "source": [
    "import pandas as pd\n",
    "import numpy as np\n",
    "import matplotlib.pyplot as plt\n",
    "import seaborn as sns\n",
    "import nltk\n",
    "nltk.download('vader_lexicon')\n",
    "from nltk.sentiment.vader import SentimentIntensityAnalyzer\n",
    "nltk.download('wordnet')\n",
    "from nltk.stem import WordNetLemmatizer"
   ]
  },
  {
   "cell_type": "markdown",
   "id": "efaa23d4-692f-49f3-b772-0d29d8c91a5a",
   "metadata": {},
   "source": [
    "### Data Imports and Setup"
   ]
  },
  {
   "cell_type": "code",
   "execution_count": 2,
   "id": "4a5b7d5f-b786-44ca-9ca4-84158b4aa7d2",
   "metadata": {
    "scrolled": true
   },
   "outputs": [],
   "source": [
    "events = [\n",
    "    \"canada_wildfires_2016\", \"cyclone_idai_2019\", \"ecuador_earthquake_2016\",\n",
    "    \"hurricane_harvey_2017\", \"hurricane_irma_2017\", \"hurricane_maria_2017\",\n",
    "    \"hurricane_matthew_2016\", \"italy_earthquake_aug_2016\", \"kaikoura_earthquake_2016\",\n",
    "    \"puebla_mexico_earthquake_2017\", \"srilanka_floods_2017\"\n",
    "]\n",
    "\n",
    "dataframes = {event: {} for event in events}\n",
    "\n",
    "# Loop through each event and load train, dev, and test sets\n",
    "for event in events:\n",
    "    for set_type in ['train', 'dev', 'test']:\n",
    "        file_path = f'../data/HumAID/{event}/{event}_{set_type}.tsv'\n",
    "        # Load the dataset and store it in the dictionary under the appropriate event and set type\n",
    "        dataframes[event][set_type] = pd.read_csv(file_path, sep='\\t')"
   ]
  },
  {
   "cell_type": "markdown",
   "id": "7b799352-b047-40dc-831d-2f671cd55b4c",
   "metadata": {},
   "source": [
    "We can access each DataFrame using its event name as the key in the 'dataframes' dictionary.\n",
    "\n",
    "For example: Access the training set for 'canada_wildfires_2016' dataframe:"
   ]
  },
  {
   "cell_type": "code",
   "execution_count": 3,
   "id": "17295752-9483-4f60-8adc-ea63a8cbfe4d",
   "metadata": {},
   "outputs": [
    {
     "data": {
      "text/html": [
       "<div>\n",
       "<style scoped>\n",
       "    .dataframe tbody tr th:only-of-type {\n",
       "        vertical-align: middle;\n",
       "    }\n",
       "\n",
       "    .dataframe tbody tr th {\n",
       "        vertical-align: top;\n",
       "    }\n",
       "\n",
       "    .dataframe thead th {\n",
       "        text-align: right;\n",
       "    }\n",
       "</style>\n",
       "<table border=\"1\" class=\"dataframe\">\n",
       "  <thead>\n",
       "    <tr style=\"text-align: right;\">\n",
       "      <th></th>\n",
       "      <th>tweet_id</th>\n",
       "      <th>tweet_text</th>\n",
       "      <th>class_label</th>\n",
       "    </tr>\n",
       "  </thead>\n",
       "  <tbody>\n",
       "    <tr>\n",
       "      <th>0</th>\n",
       "      <td>735891446960623616</td>\n",
       "      <td>RT @DonBradshawNTV: How @MarshallAmpsUK came t...</td>\n",
       "      <td>other_relevant_information</td>\n",
       "    </tr>\n",
       "    <tr>\n",
       "      <th>1</th>\n",
       "      <td>731202020296818688</td>\n",
       "      <td>Red Cross distributes $30M to Fort McMurray wi...</td>\n",
       "      <td>displaced_people_and_evacuations</td>\n",
       "    </tr>\n",
       "    <tr>\n",
       "      <th>2</th>\n",
       "      <td>733665357236342784</td>\n",
       "      <td>Interesting insights on the shifting communica...</td>\n",
       "      <td>other_relevant_information</td>\n",
       "    </tr>\n",
       "    <tr>\n",
       "      <th>3</th>\n",
       "      <td>731963038429929472</td>\n",
       "      <td>RT @globeandmail: Oil sands producers helping ...</td>\n",
       "      <td>rescue_volunteering_or_donation_effort</td>\n",
       "    </tr>\n",
       "    <tr>\n",
       "      <th>4</th>\n",
       "      <td>728674838034944001</td>\n",
       "      <td>Ottawa to match Red Cross donations for Fort M...</td>\n",
       "      <td>rescue_volunteering_or_donation_effort</td>\n",
       "    </tr>\n",
       "  </tbody>\n",
       "</table>\n",
       "</div>"
      ],
      "text/plain": [
       "             tweet_id                                         tweet_text  \\\n",
       "0  735891446960623616  RT @DonBradshawNTV: How @MarshallAmpsUK came t...   \n",
       "1  731202020296818688  Red Cross distributes $30M to Fort McMurray wi...   \n",
       "2  733665357236342784  Interesting insights on the shifting communica...   \n",
       "3  731963038429929472  RT @globeandmail: Oil sands producers helping ...   \n",
       "4  728674838034944001  Ottawa to match Red Cross donations for Fort M...   \n",
       "\n",
       "                              class_label  \n",
       "0              other_relevant_information  \n",
       "1        displaced_people_and_evacuations  \n",
       "2              other_relevant_information  \n",
       "3  rescue_volunteering_or_donation_effort  \n",
       "4  rescue_volunteering_or_donation_effort  "
      ]
     },
     "execution_count": 3,
     "metadata": {},
     "output_type": "execute_result"
    }
   ],
   "source": [
    "canada_wildfires_train_df = dataframes['canada_wildfires_2016']['train']\n",
    "canada_wildfires_train_df.head()"
   ]
  },
  {
   "cell_type": "markdown",
   "id": "e641a317-a0ad-4c9b-b365-f4ab03efa642",
   "metadata": {},
   "source": [
    "Combine all events into a 3 pandas dataframes for training, validation and testing:"
   ]
  },
  {
   "cell_type": "code",
   "execution_count": 4,
   "id": "1b33cf80-d13f-4cbb-bfe3-02d83d8daede",
   "metadata": {},
   "outputs": [],
   "source": [
    "train_dfs = []\n",
    "dev_dfs = []\n",
    "test_dfs = []\n",
    "\n",
    "# Iterate over each event and set type, adding the event name as a column\n",
    "for event, sets in dataframes.items():\n",
    "    for set_type, df in sets.items():\n",
    "        df['event'] = event  # Add the event name as a column\n",
    "        \n",
    "        # Append the DataFrame to the appropriate list based on the set type\n",
    "        if set_type == 'train':\n",
    "            train_dfs.append(df)\n",
    "        elif set_type == 'dev':\n",
    "            dev_dfs.append(df)\n",
    "        elif set_type == 'test':\n",
    "            test_dfs.append(df)\n",
    "\n",
    "# Concatenate the lists of DataFrames into three large DataFrames\n",
    "train_df = pd.concat(train_dfs, ignore_index=True)\n",
    "val_df = pd.concat(dev_dfs, ignore_index=True)\n",
    "test_df = pd.concat(test_dfs, ignore_index=True)"
   ]
  },
  {
   "cell_type": "markdown",
   "id": "6b2cae43-1f45-4910-acbf-5f07b7d981a9",
   "metadata": {},
   "source": [
    "### Data Overview\n",
    "Observe a sample of the training dataset, and the number of records in each dataset. Additionally check for missing values in each dataset. Because the VADER sentiment analysis model is a pre-trained model, it does not require a training set. Thus for the purposes of observing its capabilities, *we will observe and run the model on the **training dataset, train_df**.*"
   ]
  },
  {
   "cell_type": "code",
   "execution_count": 13,
   "id": "12bd0497-1c21-44e9-a249-0f46423fc973",
   "metadata": {
    "scrolled": true
   },
   "outputs": [
    {
     "data": {
      "text/html": [
       "<div>\n",
       "<style scoped>\n",
       "    .dataframe tbody tr th:only-of-type {\n",
       "        vertical-align: middle;\n",
       "    }\n",
       "\n",
       "    .dataframe tbody tr th {\n",
       "        vertical-align: top;\n",
       "    }\n",
       "\n",
       "    .dataframe thead th {\n",
       "        text-align: right;\n",
       "    }\n",
       "</style>\n",
       "<table border=\"1\" class=\"dataframe\">\n",
       "  <thead>\n",
       "    <tr style=\"text-align: right;\">\n",
       "      <th></th>\n",
       "      <th>tweet_id</th>\n",
       "      <th>tweet_text</th>\n",
       "      <th>class_label</th>\n",
       "      <th>event</th>\n",
       "    </tr>\n",
       "  </thead>\n",
       "  <tbody>\n",
       "    <tr>\n",
       "      <th>0</th>\n",
       "      <td>735891446960623616</td>\n",
       "      <td>How @MarshallAmpsUK came to the assistance of ...</td>\n",
       "      <td>other_relevant_information</td>\n",
       "      <td>canada_wildfires_2016</td>\n",
       "    </tr>\n",
       "    <tr>\n",
       "      <th>1</th>\n",
       "      <td>731202020296818688</td>\n",
       "      <td>Red Cross distributes $30M to Fort McMurray wi...</td>\n",
       "      <td>displaced_people_and_evacuations</td>\n",
       "      <td>canada_wildfires_2016</td>\n",
       "    </tr>\n",
       "    <tr>\n",
       "      <th>2</th>\n",
       "      <td>733665357236342784</td>\n",
       "      <td>Interesting insights on the shifting communica...</td>\n",
       "      <td>other_relevant_information</td>\n",
       "      <td>canada_wildfires_2016</td>\n",
       "    </tr>\n",
       "    <tr>\n",
       "      <th>3</th>\n",
       "      <td>731963038429929472</td>\n",
       "      <td>Oil sands producers helping workers affected b...</td>\n",
       "      <td>rescue_volunteering_or_donation_effort</td>\n",
       "      <td>canada_wildfires_2016</td>\n",
       "    </tr>\n",
       "    <tr>\n",
       "      <th>4</th>\n",
       "      <td>728674838034944001</td>\n",
       "      <td>Ottawa to match Red Cross donations for Fort M...</td>\n",
       "      <td>rescue_volunteering_or_donation_effort</td>\n",
       "      <td>canada_wildfires_2016</td>\n",
       "    </tr>\n",
       "  </tbody>\n",
       "</table>\n",
       "</div>"
      ],
      "text/plain": [
       "             tweet_id                                         tweet_text  \\\n",
       "0  735891446960623616  How @MarshallAmpsUK came to the assistance of ...   \n",
       "1  731202020296818688  Red Cross distributes $30M to Fort McMurray wi...   \n",
       "2  733665357236342784  Interesting insights on the shifting communica...   \n",
       "3  731963038429929472  Oil sands producers helping workers affected b...   \n",
       "4  728674838034944001  Ottawa to match Red Cross donations for Fort M...   \n",
       "\n",
       "                              class_label                  event  \n",
       "0              other_relevant_information  canada_wildfires_2016  \n",
       "1        displaced_people_and_evacuations  canada_wildfires_2016  \n",
       "2              other_relevant_information  canada_wildfires_2016  \n",
       "3  rescue_volunteering_or_donation_effort  canada_wildfires_2016  \n",
       "4  rescue_volunteering_or_donation_effort  canada_wildfires_2016  "
      ]
     },
     "execution_count": 13,
     "metadata": {},
     "output_type": "execute_result"
    }
   ],
   "source": [
    "# To avoid confusion, we will call the training dataset, the trial_df instead\n",
    "trial_df = train_df.copy()\n",
    "trial_df.head()"
   ]
  },
  {
   "cell_type": "code",
   "execution_count": 15,
   "id": "4cd7675d",
   "metadata": {},
   "outputs": [
    {
     "name": "stdout",
     "output_type": "stream",
     "text": [
      "The train/trial_df has: 28802 records \n",
      "The val_df has: 4193 records\n",
      "The test_df has: 8157 records\n"
     ]
    }
   ],
   "source": [
    "# Print the size of each of the 3 dataframes\n",
    "print(f\"The train/trial_df has: {len(trial_df)} records \\nThe val_df has: {len(val_df)} \\\n",
    "records\\nThe test_df has: {len(test_df)} records\")"
   ]
  },
  {
   "cell_type": "markdown",
   "id": "7ef07209-2bd1-4bef-810d-af3ed3d53afb",
   "metadata": {},
   "source": [
    "As seen above, the training/trial dataframe has the most records, while the validation and test dataframes are smaller.\n",
    "\n",
    "The following are the labels and the frequency of each label in the training set:"
   ]
  },
  {
   "cell_type": "code",
   "execution_count": 16,
   "id": "7d8f9e1b-ceea-4ae2-899b-3f8533e68dab",
   "metadata": {
    "scrolled": true
   },
   "outputs": [
    {
     "data": {
      "text/plain": [
       "rescue_volunteering_or_donation_effort    8212\n",
       "other_relevant_information                5143\n",
       "infrastructure_and_utility_damage         4151\n",
       "sympathy_and_support                      3253\n",
       "injured_or_dead_people                    2578\n",
       "caution_and_advice                        1533\n",
       "displaced_people_and_evacuations          1496\n",
       "not_humanitarian                          1284\n",
       "requests_or_urgent_needs                  1139\n",
       "missing_or_found_people                     13\n",
       "Name: class_label, dtype: int64"
      ]
     },
     "execution_count": 16,
     "metadata": {},
     "output_type": "execute_result"
    }
   ],
   "source": [
    "trial_df['class_label'].value_counts()"
   ]
  },
  {
   "cell_type": "code",
   "execution_count": 17,
   "id": "f502a294-efe9-401d-8224-4116b20999e3",
   "metadata": {},
   "outputs": [
    {
     "name": "stdout",
     "output_type": "stream",
     "text": [
      "Number of null values in 'tweet_text': 0\n",
      "Number of empty strings in 'tweet_text': 0\n"
     ]
    }
   ],
   "source": [
    "# Check for null values\n",
    "null_values = trial_df['tweet_text'].isnull().sum()\n",
    "print(f\"Number of null values in 'tweet_text': {null_values}\")\n",
    "\n",
    "# Check for empty strings\n",
    "empty_strings = (trial_df['tweet_text'] == '').sum()\n",
    "print(f\"Number of empty strings in 'tweet_text': {empty_strings}\")"
   ]
  },
  {
   "cell_type": "markdown",
   "id": "503153c2-0b8d-4843-a435-789f115c1b3a",
   "metadata": {},
   "source": [
    "### Text Preprocessing\n",
    "\n",
    "For data pre-processing, we will not remove punctuation or capitalization of the text data to keep the text as close to its original form as possible to preserve the nuances that VADER can interpret for sentiment analysis. However, information that provides no emotional meaning must be cleaned. These include retweet handles."
   ]
  },
  {
   "cell_type": "code",
   "execution_count": 19,
   "id": "16477db1",
   "metadata": {},
   "outputs": [],
   "source": [
    "# First remove the retweet handles\n",
    "def remove_rt(text):\n",
    "    if (text[:4] == \"RT @\"):\n",
    "        rt_end = text.find(\":\") + 2\n",
    "        text = text[rt_end:]\n",
    "    return text"
   ]
  },
  {
   "cell_type": "code",
   "execution_count": 18,
   "id": "a3f5c5b3",
   "metadata": {},
   "outputs": [],
   "source": [
    "# Clean the text for the train_df, which will be used to trial VADER\n",
    "trial_df['tweet_text'] = trial_df['tweet_text'].apply(remove_rt)"
   ]
  },
  {
   "cell_type": "markdown",
   "id": "c0cfec91-3564-47cc-8997-d29fc86f5d09",
   "metadata": {},
   "source": [
    "## 3. VADER for Sentiment Polarity"
   ]
  },
  {
   "cell_type": "code",
   "execution_count": 20,
   "id": "7c3b2f92-90ad-4774-b1cb-371e11fa4aa3",
   "metadata": {},
   "outputs": [],
   "source": [
    "# Initialize Sentiment Intensity Analyzer\n",
    "sia = SentimentIntensityAnalyzer()\n",
    "\n",
    "def sentiment_score(text):\n",
    "    return sia.polarity_scores(text)\n",
    "\n",
    "# Compound score is computed by standardizing neutral, negative and positive score\n",
    "def compound_score(text):\n",
    "    return sia.polarity_scores(text)['compound']\n",
    "\n",
    "# Result of the sentiment scores\n",
    "def classify_sentiment(score):\n",
    "    if score >= 0.05:\n",
    "        return 'positive'\n",
    "    elif score <= -0.05:\n",
    "        return 'negative'\n",
    "    else:\n",
    "        return 'neutral'"
   ]
  },
  {
   "cell_type": "markdown",
   "id": "e9f5334d-f08e-4eda-90b0-110eb4861c03",
   "metadata": {},
   "source": [
    "Now we can get sentiment score on each text input:"
   ]
  },
  {
   "cell_type": "code",
   "execution_count": 21,
   "id": "67adf682-732e-4c47-9899-4199c39cc768",
   "metadata": {},
   "outputs": [],
   "source": [
    "trial_df['sentiment_score'] = trial_df['tweet_text'].apply(sentiment_score)\n",
    "trial_df['compound_score'] = trial_df['tweet_text'].apply(compound_score)"
   ]
  },
  {
   "cell_type": "code",
   "execution_count": 22,
   "id": "23b3a961-71a9-4ae2-a7ce-30c3d5baf2d1",
   "metadata": {},
   "outputs": [],
   "source": [
    "trial_df['sentiment'] = trial_df['compound_score'].apply(classify_sentiment)"
   ]
  },
  {
   "cell_type": "code",
   "execution_count": 23,
   "id": "4d7783a7-6a8e-443c-8e69-59e0e20942ac",
   "metadata": {},
   "outputs": [
    {
     "data": {
      "text/html": [
       "<div>\n",
       "<style scoped>\n",
       "    .dataframe tbody tr th:only-of-type {\n",
       "        vertical-align: middle;\n",
       "    }\n",
       "\n",
       "    .dataframe tbody tr th {\n",
       "        vertical-align: top;\n",
       "    }\n",
       "\n",
       "    .dataframe thead th {\n",
       "        text-align: right;\n",
       "    }\n",
       "</style>\n",
       "<table border=\"1\" class=\"dataframe\">\n",
       "  <thead>\n",
       "    <tr style=\"text-align: right;\">\n",
       "      <th></th>\n",
       "      <th>tweet_text</th>\n",
       "      <th>sentiment_score</th>\n",
       "      <th>compound_score</th>\n",
       "      <th>sentiment</th>\n",
       "    </tr>\n",
       "  </thead>\n",
       "  <tbody>\n",
       "    <tr>\n",
       "      <th>0</th>\n",
       "      <td>How @MarshallAmpsUK came to the assistance of ...</td>\n",
       "      <td>{'neg': 0.123, 'neu': 0.877, 'pos': 0.0, 'comp...</td>\n",
       "      <td>-0.2732</td>\n",
       "      <td>negative</td>\n",
       "    </tr>\n",
       "    <tr>\n",
       "      <th>1</th>\n",
       "      <td>Red Cross distributes $30M to Fort McMurray wi...</td>\n",
       "      <td>{'neg': 0.0, 'neu': 1.0, 'pos': 0.0, 'compound...</td>\n",
       "      <td>0.0000</td>\n",
       "      <td>neutral</td>\n",
       "    </tr>\n",
       "    <tr>\n",
       "      <th>2</th>\n",
       "      <td>Interesting insights on the shifting communica...</td>\n",
       "      <td>{'neg': 0.0, 'neu': 0.838, 'pos': 0.162, 'comp...</td>\n",
       "      <td>0.4019</td>\n",
       "      <td>positive</td>\n",
       "    </tr>\n",
       "    <tr>\n",
       "      <th>3</th>\n",
       "      <td>Oil sands producers helping workers affected b...</td>\n",
       "      <td>{'neg': 0.116, 'neu': 0.725, 'pos': 0.159, 'co...</td>\n",
       "      <td>0.1531</td>\n",
       "      <td>positive</td>\n",
       "    </tr>\n",
       "    <tr>\n",
       "      <th>4</th>\n",
       "      <td>Ottawa to match Red Cross donations for Fort M...</td>\n",
       "      <td>{'neg': 0.0, 'neu': 1.0, 'pos': 0.0, 'compound...</td>\n",
       "      <td>0.0000</td>\n",
       "      <td>neutral</td>\n",
       "    </tr>\n",
       "  </tbody>\n",
       "</table>\n",
       "</div>"
      ],
      "text/plain": [
       "                                          tweet_text  \\\n",
       "0  How @MarshallAmpsUK came to the assistance of ...   \n",
       "1  Red Cross distributes $30M to Fort McMurray wi...   \n",
       "2  Interesting insights on the shifting communica...   \n",
       "3  Oil sands producers helping workers affected b...   \n",
       "4  Ottawa to match Red Cross donations for Fort M...   \n",
       "\n",
       "                                     sentiment_score  compound_score sentiment  \n",
       "0  {'neg': 0.123, 'neu': 0.877, 'pos': 0.0, 'comp...         -0.2732  negative  \n",
       "1  {'neg': 0.0, 'neu': 1.0, 'pos': 0.0, 'compound...          0.0000   neutral  \n",
       "2  {'neg': 0.0, 'neu': 0.838, 'pos': 0.162, 'comp...          0.4019  positive  \n",
       "3  {'neg': 0.116, 'neu': 0.725, 'pos': 0.159, 'co...          0.1531  positive  \n",
       "4  {'neg': 0.0, 'neu': 1.0, 'pos': 0.0, 'compound...          0.0000   neutral  "
      ]
     },
     "execution_count": 23,
     "metadata": {},
     "output_type": "execute_result"
    }
   ],
   "source": [
    "trial_df[['tweet_text', 'sentiment_score', 'compound_score', 'sentiment']].head()"
   ]
  },
  {
   "cell_type": "markdown",
   "id": "c8dacd8c-8437-4be8-8f27-c3b9efe2e11b",
   "metadata": {},
   "source": [
    "### Visualization of the Compound Sentiment Scores"
   ]
  },
  {
   "cell_type": "code",
   "execution_count": 24,
   "id": "135e01d6-d218-49fc-9b72-0adc99eb2809",
   "metadata": {
    "scrolled": true
   },
   "outputs": [
    {
     "data": {
      "image/png": "[encoded data removed]",
      "text/plain": [
       "<Figure size 432x216 with 1 Axes>"
      ]
     },
     "metadata": {
      "needs_background": "light"
     },
     "output_type": "display_data"
    }
   ],
   "source": [
    "# View the distribution of sentiment scores across the dataset\n",
    "plt.figure(figsize=(6, 3))\n",
    "sns.histplot(trial_df['compound_score'], bins=30, kde=True)\n",
    "plt.title('Distribution of Sentiment Scores')\n",
    "plt.xlabel('Sentiment Score')\n",
    "plt.ylabel('Frequency')\n",
    "plt.show()"
   ]
  },
  {
   "cell_type": "markdown",
   "id": "9b8e4d2f-b862-4e53-9de0-3092bbe805df",
   "metadata": {},
   "source": [
    "- The distribution appears to be bimodal, with two prominent peaks, suggesting two common sentiment intensities among the tweets.\n",
    "\n",
    "- There is a significant spike around the 0 mark which indicates a large number of tweets have a neutral sentiment score."
   ]
  },
  {
   "cell_type": "markdown",
   "id": "421d8250-fc25-4b98-ba2a-2e66e88a79d8",
   "metadata": {},
   "source": [
    "## 4. Customizing Vader to be Domain-Specific\n",
    "While disaster data is helpful in observing the implications of sentiment analysis, we would like to apply VADER to pole-specific reports and look at the ways it can aid us in suggesting urgency of the report. We will do this by customizing VADER to particularly identify words that may appear in pole reports, and adjust the sentiment score it will give these words.\n",
    "\n",
    "VADER sentiment scores range from [-4, 4], from strongly negative to strongly positive. We will apply scores to our domain-specific key words, and apply these to VADER."
   ]
  },
  {
   "cell_type": "code",
   "execution_count": 27,
   "id": "92056cb9",
   "metadata": {},
   "outputs": [],
   "source": [
    "# Initialize Sentiment Intensity Analyzer\n",
    "sia_custom = SentimentIntensityAnalyzer()\n",
    "\n",
    "# Add custom sentiment scores\n",
    "sia_custom.lexicon.update({\"collision\": -4.0, \"collide\": -4.0, \"collided\": -4.0, \"broke\": -3.0, \"broken\": -3.0, \\\n",
    "                           \"damaged\": -2.0, \"damage\": -2.0, \"corrosion\": -2.0, \"rust\": -2.0, \"storm\": -3.5, \\\n",
    "                           \"crash\": -4.0, \"lean\": -2.0, \"leaned\": -2.0, \"leaning\": -2.0, \"tilt\": -2.0, \"tilted\": -2.0, \\\n",
    "                           \"tilting\": -2.0, \"fall\": -3.0, \"fell\": -3.0, \"falling\": -3.0, \"fallen\": -3.0, \"unstable\": -2.0, \\\n",
    "                           \"low-hanging\": -1.5, \"wire\": -1.0, \"outage\": -4, \"expose\": -2, \"fire\": -4.0, \\\n",
    "                           \"spark\": -3.0, \"smoke\": -3.0, \"flame\": -4.0, \"overgrown\": -1.5, \"tree\": -1.0, \\\n",
    "                           \"noise\": -1.0, \"sound\": -1.0})"
   ]
  },
  {
   "cell_type": "markdown",
   "id": "3381915b",
   "metadata": {},
   "source": [
    "Let us observe a demo of a potential pole report when applied to the custom VADER model."
   ]
  },
  {
   "cell_type": "code",
   "execution_count": 28,
   "id": "4a909c5e-f612-4332-91b3-7a27149561a8",
   "metadata": {},
   "outputs": [
    {
     "name": "stdout",
     "output_type": "stream",
     "text": [
      "{'neg': 0.312, 'neu': 0.688, 'pos': 0.0, 'compound': -0.7184}\n"
     ]
    }
   ],
   "source": [
    "# Example text\n",
    "text = \"there is an open flame next to this pole that is wooden\"\n",
    "\n",
    "# Analyze sentiment\n",
    "scores = sia_custom.polarity_scores(text)\n",
    "\n",
    "# Output sentiment scores\n",
    "print(scores)"
   ]
  },
  {
   "cell_type": "markdown",
   "id": "f7054e1c",
   "metadata": {},
   "source": [
    "We will now create a sample dataset of fake pole reports, and observe its sentiment analysis."
   ]
  },
  {
   "cell_type": "code",
   "execution_count": 36,
   "id": "c23e5f29",
   "metadata": {},
   "outputs": [
    {
     "data": {
      "text/html": [
       "<div>\n",
       "<style scoped>\n",
       "    .dataframe tbody tr th:only-of-type {\n",
       "        vertical-align: middle;\n",
       "    }\n",
       "\n",
       "    .dataframe tbody tr th {\n",
       "        vertical-align: top;\n",
       "    }\n",
       "\n",
       "    .dataframe thead th {\n",
       "        text-align: right;\n",
       "    }\n",
       "</style>\n",
       "<table border=\"1\" class=\"dataframe\">\n",
       "  <thead>\n",
       "    <tr style=\"text-align: right;\">\n",
       "      <th></th>\n",
       "      <th>report_text</th>\n",
       "    </tr>\n",
       "  </thead>\n",
       "  <tbody>\n",
       "    <tr>\n",
       "      <th>0</th>\n",
       "      <td>I saw this pole next to a tree, and it seemed too exposed to the weather</td>\n",
       "    </tr>\n",
       "    <tr>\n",
       "      <th>1</th>\n",
       "      <td>There is an open flame next to this pole that is wooden</td>\n",
       "    </tr>\n",
       "    <tr>\n",
       "      <th>2</th>\n",
       "      <td>A car just crashed into this pole and it is broken.</td>\n",
       "    </tr>\n",
       "    <tr>\n",
       "      <th>3</th>\n",
       "      <td>This pole is leaning a little bit.                    I am concerned.</td>\n",
       "    </tr>\n",
       "    <tr>\n",
       "      <th>4</th>\n",
       "      <td>This pole is making a buzzing noise, it is loud and annoying.</td>\n",
       "    </tr>\n",
       "  </tbody>\n",
       "</table>\n",
       "</div>"
      ],
      "text/plain": [
       "                                                                report_text\n",
       "0  I saw this pole next to a tree, and it seemed too exposed to the weather\n",
       "1                   There is an open flame next to this pole that is wooden\n",
       "2                       A car just crashed into this pole and it is broken.\n",
       "3     This pole is leaning a little bit.                    I am concerned.\n",
       "4             This pole is making a buzzing noise, it is loud and annoying."
      ]
     },
     "execution_count": 36,
     "metadata": {},
     "output_type": "execute_result"
    }
   ],
   "source": [
    "# Initialize synthetic data\n",
    "syn_data = data = [['I saw this pole next to a tree, and it seemed too exposed to the weather'], \\\n",
    "                   ['There is an open flame next to this pole that is wooden'], \\\n",
    "                   ['A car just crashed into this pole and it is broken.'], ['This pole is leaning a little bit. \\\n",
    "                   I am concerned.'], ['This pole is making a buzzing noise, it is loud and annoying.'], \\\n",
    "                   ['The wires are caught on a tree'], [\"There is a sound coming from this pole, I'm afraid it \\\n",
    "                   will cause an outage.\"], ['Outage'], ['There are sparks coming from this pole, and it seems to \\\n",
    "                   be corroded.'], ['This pole seems to be damaged.']]\n",
    "\n",
    "# Create the DataFrame\n",
    "sample_df = pd.DataFrame(syn_data, columns=['report_text'])\n",
    "sample_df.head()"
   ]
  },
  {
   "cell_type": "markdown",
   "id": "68b36fee",
   "metadata": {},
   "source": [
    "In order for the customized key pole-related words to apply to all forms (tense, plural), we must normalize the text data. We will do so by lemmatizing the text. In lemmatization, words are reduced to their root, or dictionary form."
   ]
  },
  {
   "cell_type": "code",
   "execution_count": 37,
   "id": "bad2b1a1",
   "metadata": {},
   "outputs": [],
   "source": [
    "# Apply lemmatization to the text data, to break down words to simplest form\n",
    "word_lemmatizer = WordNetLemmatizer()\n",
    "sample_df['text_cleaned'] = sample_df['report_text'].apply(lambda txt: \" \".join(\\\n",
    "                                                        [(word_lemmatizer.lemmatize(word)) for word in txt.split()]))"
   ]
  },
  {
   "cell_type": "code",
   "execution_count": 38,
   "id": "d86300ab",
   "metadata": {},
   "outputs": [],
   "source": [
    "sentiment_score = lambda x: sia_custom.polarity_scores(x)\n",
    "compound_score = lambda x: sia_custom.polarity_scores(x)['compound']\n",
    "\n",
    "sample_df['sentiment_score'] = sample_df['report_text'].apply(sentiment_score)\n",
    "sample_df['compound_score'] = sample_df['report_text'].apply(compound_score)\n",
    "sample_df['sentiment'] = sample_df['compound_score'].apply(classify_sentiment)"
   ]
  },
  {
   "cell_type": "code",
   "execution_count": 39,
   "id": "45f3477a",
   "metadata": {},
   "outputs": [
    {
     "data": {
      "text/html": [
       "<div>\n",
       "<style scoped>\n",
       "    .dataframe tbody tr th:only-of-type {\n",
       "        vertical-align: middle;\n",
       "    }\n",
       "\n",
       "    .dataframe tbody tr th {\n",
       "        vertical-align: top;\n",
       "    }\n",
       "\n",
       "    .dataframe thead th {\n",
       "        text-align: right;\n",
       "    }\n",
       "</style>\n",
       "<table border=\"1\" class=\"dataframe\">\n",
       "  <thead>\n",
       "    <tr style=\"text-align: right;\">\n",
       "      <th></th>\n",
       "      <th>report_text</th>\n",
       "      <th>text_cleaned</th>\n",
       "      <th>sentiment_score</th>\n",
       "      <th>compound_score</th>\n",
       "      <th>sentiment</th>\n",
       "    </tr>\n",
       "  </thead>\n",
       "  <tbody>\n",
       "    <tr>\n",
       "      <th>0</th>\n",
       "      <td>I saw this pole next to a tree, and it seemed too exposed to the weather</td>\n",
       "      <td>I saw this pole next to a tree, and it seemed too exposed to the weather</td>\n",
       "      <td>{'neg': 0.216, 'neu': 0.784, 'pos': 0.0, 'compound': -0.3182}</td>\n",
       "      <td>-0.3182</td>\n",
       "      <td>negative</td>\n",
       "    </tr>\n",
       "    <tr>\n",
       "      <th>1</th>\n",
       "      <td>There is an open flame next to this pole that is wooden</td>\n",
       "      <td>There is an open flame next to this pole that is wooden</td>\n",
       "      <td>{'neg': 0.312, 'neu': 0.688, 'pos': 0.0, 'compound': -0.7184}</td>\n",
       "      <td>-0.7184</td>\n",
       "      <td>negative</td>\n",
       "    </tr>\n",
       "    <tr>\n",
       "      <th>2</th>\n",
       "      <td>A car just crashed into this pole and it is broken.</td>\n",
       "      <td>A car just crashed into this pole and it is broken.</td>\n",
       "      <td>{'neg': 0.308, 'neu': 0.692, 'pos': 0.0, 'compound': -0.6124}</td>\n",
       "      <td>-0.6124</td>\n",
       "      <td>negative</td>\n",
       "    </tr>\n",
       "    <tr>\n",
       "      <th>3</th>\n",
       "      <td>This pole is leaning a little bit.                    I am concerned.</td>\n",
       "      <td>This pole is leaning a little bit. I am concerned.</td>\n",
       "      <td>{'neg': 0.3, 'neu': 0.7, 'pos': 0.0, 'compound': -0.4588}</td>\n",
       "      <td>-0.4588</td>\n",
       "      <td>negative</td>\n",
       "    </tr>\n",
       "    <tr>\n",
       "      <th>4</th>\n",
       "      <td>This pole is making a buzzing noise, it is loud and annoying.</td>\n",
       "      <td>This pole is making a buzzing noise, it is loud and annoying.</td>\n",
       "      <td>{'neg': 0.343, 'neu': 0.657, 'pos': 0.0, 'compound': -0.5719}</td>\n",
       "      <td>-0.5719</td>\n",
       "      <td>negative</td>\n",
       "    </tr>\n",
       "  </tbody>\n",
       "</table>\n",
       "</div>"
      ],
      "text/plain": [
       "                                                                report_text  \\\n",
       "0  I saw this pole next to a tree, and it seemed too exposed to the weather   \n",
       "1                   There is an open flame next to this pole that is wooden   \n",
       "2                       A car just crashed into this pole and it is broken.   \n",
       "3     This pole is leaning a little bit.                    I am concerned.   \n",
       "4             This pole is making a buzzing noise, it is loud and annoying.   \n",
       "\n",
       "                                                               text_cleaned  \\\n",
       "0  I saw this pole next to a tree, and it seemed too exposed to the weather   \n",
       "1                   There is an open flame next to this pole that is wooden   \n",
       "2                       A car just crashed into this pole and it is broken.   \n",
       "3                        This pole is leaning a little bit. I am concerned.   \n",
       "4             This pole is making a buzzing noise, it is loud and annoying.   \n",
       "\n",
       "                                                 sentiment_score  \\\n",
       "0  {'neg': 0.216, 'neu': 0.784, 'pos': 0.0, 'compound': -0.3182}   \n",
       "1  {'neg': 0.312, 'neu': 0.688, 'pos': 0.0, 'compound': -0.7184}   \n",
       "2  {'neg': 0.308, 'neu': 0.692, 'pos': 0.0, 'compound': -0.6124}   \n",
       "3      {'neg': 0.3, 'neu': 0.7, 'pos': 0.0, 'compound': -0.4588}   \n",
       "4  {'neg': 0.343, 'neu': 0.657, 'pos': 0.0, 'compound': -0.5719}   \n",
       "\n",
       "   compound_score sentiment  \n",
       "0         -0.3182  negative  \n",
       "1         -0.7184  negative  \n",
       "2         -0.6124  negative  \n",
       "3         -0.4588  negative  \n",
       "4         -0.5719  negative  "
      ]
     },
     "execution_count": 39,
     "metadata": {},
     "output_type": "execute_result"
    }
   ],
   "source": [
    "pd.set_option('display.max_colwidth', None)\n",
    "sample_df.head()"
   ]
  },
  {
   "cell_type": "code",
   "execution_count": null,
   "id": "2f38fcaa",
   "metadata": {},
   "outputs": [],
   "source": []
  }
 ],
 "metadata": {
  "kernelspec": {
   "display_name": "Python 3 (ipykernel)",
   "language": "python",
   "name": "python3"
  },
  "language_info": {
   "codemirror_mode": {
    "name": "ipython",
    "version": 3
   },
   "file_extension": ".py",
   "mimetype": "text/x-python",
   "name": "python",
   "nbconvert_exporter": "python",
   "pygments_lexer": "ipython3",
   "version": "3.8.5"
  }
 },
 "nbformat": 4,
 "nbformat_minor": 5
}
