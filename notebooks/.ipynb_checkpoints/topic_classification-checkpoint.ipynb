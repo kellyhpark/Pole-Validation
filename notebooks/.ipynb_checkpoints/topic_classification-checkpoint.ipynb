{
 "cells": [
  {
   "cell_type": "markdown",
   "metadata": {},
   "source": [
    "# TOPIC CLASSIFICATION"
   ]
  },
  {
   "cell_type": "markdown",
   "metadata": {},
   "source": [
    "## 1. Introduction"
   ]
  },
  {
   "cell_type": "markdown",
   "metadata": {},
   "source": [
    "### Objective\n",
    "While the app's main functionality centers on capturing and analyzing images of utility poles for maintenance and safety concerns, the integrated text box feature serves a crucial supplementary role, it allows customers to provide additional context, report specific issues, and express their concerns or feedback regarding the utility services.\n",
    "\n",
    "On top of sentiment and urgency text analysis we will implement the following to further enhance the use of the text:\n",
    "- Support Vector Machine for Topic Classification - This model will help identify the urgency of an asset's condition by categorizing the text into 'infrastructure_and_utility_damage' or 'requests_or_urgent_needs'"
   ]
  },
  {
   "cell_type": "markdown",
   "metadata": {},
   "source": [
    "### Datset Description"
   ]
  },
  {
   "cell_type": "markdown",
   "metadata": {},
   "source": [
    "This project utilizes the HumAID Twitter dataset, which consists of manually annotated tweets collected during eleven significant natural disaster events from 2016 to 2019. \n",
    "We use this HumAID Twitter dataset as a stand-in for actual customer data from SDG&E due to the current lack of available customer interactions. Our approach utilizes these annotated tweets as a proxy to develop and refine our sentiment analysis and topic classification models.\n",
    "\n",
    "Link: https://crisisnlp.qcri.org/humaid_dataset\n",
    "\n",
    "The dataset is organized into separate folders for each of the following natural disaster events:\n",
    "\n",
    "- Canada Wildfires (2016)\n",
    "- Cyclone Idai (2019)\n",
    "- Ecuador Earthquake (2016)\n",
    "- Hurricane Harvey (2017)\n",
    "- Hurricane Irma (2017)\n",
    "- Hurricane Maria (2017)\n",
    "- Hurricane Matthew (2016)\n",
    "- Italy Earthquake (August 2016)\n",
    "- Kaikoura Earthquake (2016)\n",
    "- Puebla Mexico Earthquake (2017)\n",
    "- Sri Lanka Floods (2017)\n",
    "\n",
    "For each event, the dataset is divided into two subsets: Training Set, and Test Set.\n",
    "\n",
    "Each subset consists of tab-separated values (TSV) files containing 3 columns: tweet_id, tweet_text, class_label."
   ]
  },
  {
   "cell_type": "markdown",
   "metadata": {},
   "source": [
    "## 2. Setup"
   ]
  },
  {
   "cell_type": "markdown",
   "metadata": {},
   "source": [
    "### Library Imports"
   ]
  },
  {
   "cell_type": "code",
   "execution_count": 21,
   "metadata": {},
   "outputs": [],
   "source": [
    "import pandas as pd\n",
    "import numpy as np\n",
    "from sklearn import metrics\n",
    "import matplotlib.pyplot as plt\n",
    "from sklearn.model_selection import train_test_split\n",
    "from sklearn.feature_extraction.text import CountVectorizer\n",
    "from sklearn.metrics import accuracy_score\n",
    "from nltk.corpus import stopwords\n",
    "import re\n",
    "from bs4 import BeautifulSoup\n",
    "from sklearn.linear_model import SGDClassifier\n",
    "from sklearn.pipeline import Pipeline\n",
    "from sklearn.feature_extraction.text import TfidfTransformer\n",
    "from sklearn.metrics import classification_report"
   ]
  },
  {
   "cell_type": "markdown",
   "metadata": {},
   "source": [
    "### Data Imports and Setup"
   ]
  },
  {
   "cell_type": "code",
   "execution_count": 2,
   "metadata": {},
   "outputs": [],
   "source": [
    "events = [\n",
    "    \"canada_wildfires_2016\", \"cyclone_idai_2019\", \"ecuador_earthquake_2016\",\n",
    "    \"hurricane_harvey_2017\", \"hurricane_irma_2017\", \"hurricane_maria_2017\",\n",
    "    \"hurricane_matthew_2016\", \"italy_earthquake_aug_2016\", \"kaikoura_earthquake_2016\",\n",
    "    \"puebla_mexico_earthquake_2017\", \"srilanka_floods_2017\"\n",
    "]\n",
    "\n",
    "dataframes = {event: {} for event in events}\n",
    "\n",
    "# Loop through each event and load train, dev, and test sets\n",
    "for event in events:\n",
    "    for set_type in ['train', 'dev', 'test']:\n",
    "        file_path = f'../data/HumAID/{event}/{event}_{set_type}.tsv'\n",
    "        # Load the dataset and store it in the dictionary under the appropriate event and set type\n",
    "        dataframes[event][set_type] = pd.read_csv(file_path, sep='\\t')"
   ]
  },
  {
   "cell_type": "code",
   "execution_count": 3,
   "metadata": {},
   "outputs": [
    {
     "data": {
      "text/html": [
       "<div>\n",
       "<style scoped>\n",
       "    .dataframe tbody tr th:only-of-type {\n",
       "        vertical-align: middle;\n",
       "    }\n",
       "\n",
       "    .dataframe tbody tr th {\n",
       "        vertical-align: top;\n",
       "    }\n",
       "\n",
       "    .dataframe thead th {\n",
       "        text-align: right;\n",
       "    }\n",
       "</style>\n",
       "<table border=\"1\" class=\"dataframe\">\n",
       "  <thead>\n",
       "    <tr style=\"text-align: right;\">\n",
       "      <th></th>\n",
       "      <th>tweet_id</th>\n",
       "      <th>tweet_text</th>\n",
       "      <th>class_label</th>\n",
       "    </tr>\n",
       "  </thead>\n",
       "  <tbody>\n",
       "    <tr>\n",
       "      <th>0</th>\n",
       "      <td>728674116773904384</td>\n",
       "      <td>RT @FoothillsFCU23: In response the to the #Fo...</td>\n",
       "      <td>rescue_volunteering_or_donation_effort</td>\n",
       "    </tr>\n",
       "    <tr>\n",
       "      <th>1</th>\n",
       "      <td>729787427829612544</td>\n",
       "      <td>Redcross is offering charitable donation recei...</td>\n",
       "      <td>rescue_volunteering_or_donation_effort</td>\n",
       "    </tr>\n",
       "    <tr>\n",
       "      <th>2</th>\n",
       "      <td>730510385544085505</td>\n",
       "      <td>RT @globeandmail: Red Cross to transfer $50-mi...</td>\n",
       "      <td>rescue_volunteering_or_donation_effort</td>\n",
       "    </tr>\n",
       "    <tr>\n",
       "      <th>3</th>\n",
       "      <td>733705874594746368</td>\n",
       "      <td>Live: Emergency operations briefing on north A...</td>\n",
       "      <td>other_relevant_information</td>\n",
       "    </tr>\n",
       "    <tr>\n",
       "      <th>4</th>\n",
       "      <td>730606066023665665</td>\n",
       "      <td>$9bn fire damage to Fort McMurray, ‘the beast’...</td>\n",
       "      <td>infrastructure_and_utility_damage</td>\n",
       "    </tr>\n",
       "    <tr>\n",
       "      <th>...</th>\n",
       "      <td>...</td>\n",
       "      <td>...</td>\n",
       "      <td>...</td>\n",
       "    </tr>\n",
       "    <tr>\n",
       "      <th>440</th>\n",
       "      <td>729062171993374720</td>\n",
       "      <td>I feel sad Mom &amp;amp; I r donating money to the...</td>\n",
       "      <td>rescue_volunteering_or_donation_effort</td>\n",
       "    </tr>\n",
       "    <tr>\n",
       "      <th>441</th>\n",
       "      <td>728733841230311425</td>\n",
       "      <td>This is the best way to help. The Red Cross wi...</td>\n",
       "      <td>rescue_volunteering_or_donation_effort</td>\n",
       "    </tr>\n",
       "    <tr>\n",
       "      <th>442</th>\n",
       "      <td>730078294259961856</td>\n",
       "      <td>RT @TheGrayGroup: Donations for Fort McMurray ...</td>\n",
       "      <td>rescue_volunteering_or_donation_effort</td>\n",
       "    </tr>\n",
       "    <tr>\n",
       "      <th>443</th>\n",
       "      <td>730002964035723264</td>\n",
       "      <td>Local volleyball team members raise money to h...</td>\n",
       "      <td>rescue_volunteering_or_donation_effort</td>\n",
       "    </tr>\n",
       "    <tr>\n",
       "      <th>444</th>\n",
       "      <td>729526488366616576</td>\n",
       "      <td>These heroes brought students to their familie...</td>\n",
       "      <td>rescue_volunteering_or_donation_effort</td>\n",
       "    </tr>\n",
       "  </tbody>\n",
       "</table>\n",
       "<p>445 rows × 3 columns</p>\n",
       "</div>"
      ],
      "text/plain": [
       "               tweet_id                                         tweet_text  \\\n",
       "0    728674116773904384  RT @FoothillsFCU23: In response the to the #Fo...   \n",
       "1    729787427829612544  Redcross is offering charitable donation recei...   \n",
       "2    730510385544085505  RT @globeandmail: Red Cross to transfer $50-mi...   \n",
       "3    733705874594746368  Live: Emergency operations briefing on north A...   \n",
       "4    730606066023665665  $9bn fire damage to Fort McMurray, ‘the beast’...   \n",
       "..                  ...                                                ...   \n",
       "440  729062171993374720  I feel sad Mom &amp; I r donating money to the...   \n",
       "441  728733841230311425  This is the best way to help. The Red Cross wi...   \n",
       "442  730078294259961856  RT @TheGrayGroup: Donations for Fort McMurray ...   \n",
       "443  730002964035723264  Local volleyball team members raise money to h...   \n",
       "444  729526488366616576  These heroes brought students to their familie...   \n",
       "\n",
       "                                class_label  \n",
       "0    rescue_volunteering_or_donation_effort  \n",
       "1    rescue_volunteering_or_donation_effort  \n",
       "2    rescue_volunteering_or_donation_effort  \n",
       "3                other_relevant_information  \n",
       "4         infrastructure_and_utility_damage  \n",
       "..                                      ...  \n",
       "440  rescue_volunteering_or_donation_effort  \n",
       "441  rescue_volunteering_or_donation_effort  \n",
       "442  rescue_volunteering_or_donation_effort  \n",
       "443  rescue_volunteering_or_donation_effort  \n",
       "444  rescue_volunteering_or_donation_effort  \n",
       "\n",
       "[445 rows x 3 columns]"
      ]
     },
     "execution_count": 3,
     "metadata": {},
     "output_type": "execute_result"
    }
   ],
   "source": [
    "dataframes['canada_wildfires_2016']['test']"
   ]
  },
  {
   "cell_type": "code",
   "execution_count": 4,
   "metadata": {},
   "outputs": [],
   "source": [
    "all_dfs = []\n",
    "\n",
    "# Iterate over each event and set type, adding the event name as a column\n",
    "for event, sets in dataframes.items():\n",
    "    for set_type, df in sets.items():\n",
    "        df['event'] = event  # Add the event name as a column\n",
    "\n",
    "        all_dfs.append(df)\n",
    "\n",
    "# Concatenate the lists of DataFrames into a single DataFrame\n",
    "all_df = pd.concat(all_dfs, ignore_index=True)"
   ]
  },
  {
   "cell_type": "markdown",
   "metadata": {},
   "source": [
    "Filter the DataFrame that only contains the labels 'infrastructure_and_utility_damage' and 'requests_or_urgent_needs'"
   ]
  },
  {
   "cell_type": "code",
   "execution_count": 5,
   "metadata": {},
   "outputs": [],
   "source": [
    "# Filter out to get only necessary data\n",
    "all_df = all_df[(all_df['class_label'] == 'infrastructure_and_utility_damage') | \\\n",
    "                (all_df['class_label'] == 'requests_or_urgent_needs')]"
   ]
  },
  {
   "cell_type": "markdown",
   "metadata": {},
   "source": [
    "### Data Overview"
   ]
  },
  {
   "cell_type": "code",
   "execution_count": 6,
   "metadata": {},
   "outputs": [
    {
     "data": {
      "text/html": [
       "<div>\n",
       "<style scoped>\n",
       "    .dataframe tbody tr th:only-of-type {\n",
       "        vertical-align: middle;\n",
       "    }\n",
       "\n",
       "    .dataframe tbody tr th {\n",
       "        vertical-align: top;\n",
       "    }\n",
       "\n",
       "    .dataframe thead th {\n",
       "        text-align: right;\n",
       "    }\n",
       "</style>\n",
       "<table border=\"1\" class=\"dataframe\">\n",
       "  <thead>\n",
       "    <tr style=\"text-align: right;\">\n",
       "      <th></th>\n",
       "      <th>tweet_id</th>\n",
       "      <th>tweet_text</th>\n",
       "      <th>class_label</th>\n",
       "      <th>event</th>\n",
       "    </tr>\n",
       "  </thead>\n",
       "  <tbody>\n",
       "    <tr>\n",
       "      <th>16</th>\n",
       "      <td>729658483948302336</td>\n",
       "      <td>Great tale from @ReutersWinnipeg: #Canada fire...</td>\n",
       "      <td>infrastructure_and_utility_damage</td>\n",
       "      <td>canada_wildfires_2016</td>\n",
       "    </tr>\n",
       "    <tr>\n",
       "      <th>21</th>\n",
       "      <td>731202296210685952</td>\n",
       "      <td>RT @CBCNorth: Justin Trudeau in Fort McMurray ...</td>\n",
       "      <td>infrastructure_and_utility_damage</td>\n",
       "      <td>canada_wildfires_2016</td>\n",
       "    </tr>\n",
       "    <tr>\n",
       "      <th>32</th>\n",
       "      <td>728697237153447936</td>\n",
       "      <td>Wildfire official Chad Morrison says between 1...</td>\n",
       "      <td>infrastructure_and_utility_damage</td>\n",
       "      <td>canada_wildfires_2016</td>\n",
       "    </tr>\n",
       "    <tr>\n",
       "      <th>39</th>\n",
       "      <td>733413736686358528</td>\n",
       "      <td>RT @WaterTrends: CANADA ALBERTA: Wildfire cont...</td>\n",
       "      <td>infrastructure_and_utility_damage</td>\n",
       "      <td>canada_wildfires_2016</td>\n",
       "    </tr>\n",
       "    <tr>\n",
       "      <th>45</th>\n",
       "      <td>728604991397584896</td>\n",
       "      <td>Catastrophic Canadian Wildfire Is a Sign of De...</td>\n",
       "      <td>infrastructure_and_utility_damage</td>\n",
       "      <td>canada_wildfires_2016</td>\n",
       "    </tr>\n",
       "  </tbody>\n",
       "</table>\n",
       "</div>"
      ],
      "text/plain": [
       "              tweet_id                                         tweet_text  \\\n",
       "16  729658483948302336  Great tale from @ReutersWinnipeg: #Canada fire...   \n",
       "21  731202296210685952  RT @CBCNorth: Justin Trudeau in Fort McMurray ...   \n",
       "32  728697237153447936  Wildfire official Chad Morrison says between 1...   \n",
       "39  733413736686358528  RT @WaterTrends: CANADA ALBERTA: Wildfire cont...   \n",
       "45  728604991397584896  Catastrophic Canadian Wildfire Is a Sign of De...   \n",
       "\n",
       "                          class_label                  event  \n",
       "16  infrastructure_and_utility_damage  canada_wildfires_2016  \n",
       "21  infrastructure_and_utility_damage  canada_wildfires_2016  \n",
       "32  infrastructure_and_utility_damage  canada_wildfires_2016  \n",
       "39  infrastructure_and_utility_damage  canada_wildfires_2016  \n",
       "45  infrastructure_and_utility_damage  canada_wildfires_2016  "
      ]
     },
     "execution_count": 6,
     "metadata": {},
     "output_type": "execute_result"
    }
   ],
   "source": [
    "# Observe a few rows of the data\n",
    "all_df.head()"
   ]
  },
  {
   "cell_type": "code",
   "execution_count": 7,
   "metadata": {},
   "outputs": [
    {
     "name": "stdout",
     "output_type": "stream",
     "text": [
      "The filtered dataframe contains 7554 labeled reviews.\n"
     ]
    }
   ],
   "source": [
    "# Observe the length of the data\n",
    "print(f\"The filtered dataframe contains {len(all_df)} labeled reviews.\")"
   ]
  },
  {
   "cell_type": "code",
   "execution_count": 8,
   "metadata": {},
   "outputs": [
    {
     "data": {
      "text/plain": [
       "infrastructure_and_utility_damage    5928\n",
       "requests_or_urgent_needs             1626\n",
       "Name: class_label, dtype: int64"
      ]
     },
     "execution_count": 8,
     "metadata": {},
     "output_type": "execute_result"
    }
   ],
   "source": [
    "# Print the number of records in each category label\n",
    "all_df['class_label'].value_counts()"
   ]
  },
  {
   "cell_type": "markdown",
   "metadata": {},
   "source": [
    "As the two classes of \"infrastructure_and_utility_damage\" and \"requests_or_urgent_needs\" are greatly imbalanced, we will balance the dataset by randomly sampling from the more abundant class, \"infrastructure_and_utility_damage\"."
   ]
  },
  {
   "cell_type": "code",
   "execution_count": 9,
   "metadata": {},
   "outputs": [],
   "source": [
    "# Random sampling of infrastructure_and_utility_damage records\n",
    "infrastructure_labels = all_df[(all_df['class_label'] == 'infrastructure_and_utility_damage')].sample(n=1626, replace=False)\n",
    "requests_labels = all_df[(all_df['class_label'] == 'requests_or_urgent_needs')]"
   ]
  },
  {
   "cell_type": "code",
   "execution_count": 10,
   "metadata": {},
   "outputs": [],
   "source": [
    "balanced_df = pd.concat([infrastructure_labels, requests_labels], ignore_index=True, sort=False)"
   ]
  },
  {
   "cell_type": "code",
   "execution_count": 11,
   "metadata": {},
   "outputs": [
    {
     "data": {
      "text/plain": [
       "infrastructure_and_utility_damage    1626\n",
       "requests_or_urgent_needs             1626\n",
       "Name: class_label, dtype: int64"
      ]
     },
     "execution_count": 11,
     "metadata": {},
     "output_type": "execute_result"
    }
   ],
   "source": [
    "balanced_df['class_label'].value_counts()"
   ]
  },
  {
   "cell_type": "code",
   "execution_count": 12,
   "metadata": {},
   "outputs": [
    {
     "data": {
      "text/html": [
       "<div>\n",
       "<style scoped>\n",
       "    .dataframe tbody tr th:only-of-type {\n",
       "        vertical-align: middle;\n",
       "    }\n",
       "\n",
       "    .dataframe tbody tr th {\n",
       "        vertical-align: top;\n",
       "    }\n",
       "\n",
       "    .dataframe thead th {\n",
       "        text-align: right;\n",
       "    }\n",
       "</style>\n",
       "<table border=\"1\" class=\"dataframe\">\n",
       "  <thead>\n",
       "    <tr style=\"text-align: right;\">\n",
       "      <th></th>\n",
       "      <th>tweet_id</th>\n",
       "      <th>tweet_text</th>\n",
       "      <th>class_label</th>\n",
       "      <th>event</th>\n",
       "    </tr>\n",
       "  </thead>\n",
       "  <tbody>\n",
       "    <tr>\n",
       "      <th>0</th>\n",
       "      <td>783543607357804544</td>\n",
       "      <td>RT @billmckibben: It’s the worst hurricane I’v...</td>\n",
       "      <td>infrastructure_and_utility_damage</td>\n",
       "      <td>hurricane_matthew_2016</td>\n",
       "    </tr>\n",
       "    <tr>\n",
       "      <th>1</th>\n",
       "      <td>913505868699729920</td>\n",
       "      <td>RT @SPGlobalRatings: Most #infrastructure issu...</td>\n",
       "      <td>infrastructure_and_utility_damage</td>\n",
       "      <td>puebla_mexico_earthquake_2017</td>\n",
       "    </tr>\n",
       "    <tr>\n",
       "      <th>2</th>\n",
       "      <td>1112539826748821504</td>\n",
       "      <td>The Estoril School in Beira was destroyed duri...</td>\n",
       "      <td>infrastructure_and_utility_damage</td>\n",
       "      <td>cyclone_idai_2019</td>\n",
       "    </tr>\n",
       "    <tr>\n",
       "      <th>3</th>\n",
       "      <td>1112742144106741760</td>\n",
       "      <td>At the weekend, I wondered how our villages wo...</td>\n",
       "      <td>infrastructure_and_utility_damage</td>\n",
       "      <td>cyclone_idai_2019</td>\n",
       "    </tr>\n",
       "    <tr>\n",
       "      <th>4</th>\n",
       "      <td>914363079307202560</td>\n",
       "      <td>@nick_shapiro CIA Director: Mr. Trump should h...</td>\n",
       "      <td>infrastructure_and_utility_damage</td>\n",
       "      <td>hurricane_maria_2017</td>\n",
       "    </tr>\n",
       "    <tr>\n",
       "      <th>...</th>\n",
       "      <td>...</td>\n",
       "      <td>...</td>\n",
       "      <td>...</td>\n",
       "      <td>...</td>\n",
       "    </tr>\n",
       "    <tr>\n",
       "      <th>3247</th>\n",
       "      <td>870904365577453568</td>\n",
       "      <td>Medical officers neededἾ5Ὡ1Ὢ8 #FloodSL #FloodR...</td>\n",
       "      <td>requests_or_urgent_needs</td>\n",
       "      <td>srilanka_floods_2017</td>\n",
       "    </tr>\n",
       "    <tr>\n",
       "      <th>3248</th>\n",
       "      <td>877254326460272640</td>\n",
       "      <td>RT @IamRavindu: URGENT NEED FOR DONATIONS!! IM...</td>\n",
       "      <td>requests_or_urgent_needs</td>\n",
       "      <td>srilanka_floods_2017</td>\n",
       "    </tr>\n",
       "    <tr>\n",
       "      <th>3249</th>\n",
       "      <td>870812532109344768</td>\n",
       "      <td>RT @Tharangawavez: Indispensable ,Medicines an...</td>\n",
       "      <td>requests_or_urgent_needs</td>\n",
       "      <td>srilanka_floods_2017</td>\n",
       "    </tr>\n",
       "    <tr>\n",
       "      <th>3250</th>\n",
       "      <td>874922877560270848</td>\n",
       "      <td>Chinese cargo aircraft carrying emergency huma...</td>\n",
       "      <td>requests_or_urgent_needs</td>\n",
       "      <td>srilanka_floods_2017</td>\n",
       "    </tr>\n",
       "    <tr>\n",
       "      <th>3251</th>\n",
       "      <td>871416115213324292</td>\n",
       "      <td>RT @sulorammohan:  Medical aid for #Flood vict...</td>\n",
       "      <td>requests_or_urgent_needs</td>\n",
       "      <td>srilanka_floods_2017</td>\n",
       "    </tr>\n",
       "  </tbody>\n",
       "</table>\n",
       "<p>3252 rows × 4 columns</p>\n",
       "</div>"
      ],
      "text/plain": [
       "                 tweet_id                                         tweet_text  \\\n",
       "0      783543607357804544  RT @billmckibben: It’s the worst hurricane I’v...   \n",
       "1      913505868699729920  RT @SPGlobalRatings: Most #infrastructure issu...   \n",
       "2     1112539826748821504  The Estoril School in Beira was destroyed duri...   \n",
       "3     1112742144106741760  At the weekend, I wondered how our villages wo...   \n",
       "4      914363079307202560  @nick_shapiro CIA Director: Mr. Trump should h...   \n",
       "...                   ...                                                ...   \n",
       "3247   870904365577453568  Medical officers neededἾ5Ὡ1Ὢ8 #FloodSL #FloodR...   \n",
       "3248   877254326460272640  RT @IamRavindu: URGENT NEED FOR DONATIONS!! IM...   \n",
       "3249   870812532109344768  RT @Tharangawavez: Indispensable ,Medicines an...   \n",
       "3250   874922877560270848  Chinese cargo aircraft carrying emergency huma...   \n",
       "3251   871416115213324292  RT @sulorammohan:  Medical aid for #Flood vict...   \n",
       "\n",
       "                            class_label                          event  \n",
       "0     infrastructure_and_utility_damage         hurricane_matthew_2016  \n",
       "1     infrastructure_and_utility_damage  puebla_mexico_earthquake_2017  \n",
       "2     infrastructure_and_utility_damage              cyclone_idai_2019  \n",
       "3     infrastructure_and_utility_damage              cyclone_idai_2019  \n",
       "4     infrastructure_and_utility_damage           hurricane_maria_2017  \n",
       "...                                 ...                            ...  \n",
       "3247           requests_or_urgent_needs           srilanka_floods_2017  \n",
       "3248           requests_or_urgent_needs           srilanka_floods_2017  \n",
       "3249           requests_or_urgent_needs           srilanka_floods_2017  \n",
       "3250           requests_or_urgent_needs           srilanka_floods_2017  \n",
       "3251           requests_or_urgent_needs           srilanka_floods_2017  \n",
       "\n",
       "[3252 rows x 4 columns]"
      ]
     },
     "execution_count": 12,
     "metadata": {},
     "output_type": "execute_result"
    }
   ],
   "source": [
    "balanced_df"
   ]
  },
  {
   "cell_type": "markdown",
   "metadata": {},
   "source": [
    "### Text Preprocessing"
   ]
  },
  {
   "cell_type": "markdown",
   "metadata": {},
   "source": [
    "Before modelling, we must first preprocess the data by cleaning the text in our dataset. We will do so by removing the retweet handles, stop words, and any unnecesary punctuation."
   ]
  },
  {
   "cell_type": "code",
   "execution_count": 13,
   "metadata": {},
   "outputs": [],
   "source": [
    "# First remove the retweet handles\n",
    "def remove_rt(text):\n",
    "    if (text[:4] == \"RT @\"):\n",
    "        rt_end = text.find(\":\") + 2\n",
    "        text = text[rt_end:]\n",
    "    return text"
   ]
  },
  {
   "cell_type": "code",
   "execution_count": 14,
   "metadata": {},
   "outputs": [],
   "source": [
    "REPLACE_BY_SPACE_RE = re.compile('[/(){}\\[\\]\\|@,;]')\n",
    "BAD_SYMBOLS_RE = re.compile('[^0-9a-z #+_]')\n",
    "STOPWORDS = set(stopwords.words('english'))\n",
    "\n",
    "# Clean given text\n",
    "def clean_text(text):\n",
    "    text = BeautifulSoup(text, \"lxml\").text # HTML decoding\n",
    "    text = text.lower() # lowercase text\n",
    "    text = REPLACE_BY_SPACE_RE.sub(' ', text) # replace REPLACE_BY_SPACE_RE symbols by space in text\n",
    "    text = BAD_SYMBOLS_RE.sub('', text) # delete symbols which are in BAD_SYMBOLS_RE from text\n",
    "    text = ' '.join(word for word in text.split() if word not in STOPWORDS) # delete stopwors from text\n",
    "    return text"
   ]
  },
  {
   "cell_type": "code",
   "execution_count": 15,
   "metadata": {},
   "outputs": [
    {
     "name": "stderr",
     "output_type": "stream",
     "text": [
      "C:\\Users\\19495\\AppData\\Local\\Temp\\ipykernel_19332\\4261191211.py:7: MarkupResemblesLocatorWarning: The input looks more like a filename than markup. You may want to open this file and pass the filehandle into Beautiful Soup.\n",
      "  text = BeautifulSoup(text, \"lxml\").text # HTML decoding\n"
     ]
    }
   ],
   "source": [
    "# Clean the text data\n",
    "balanced_df['tweet_text'] = balanced_df['tweet_text'].apply(remove_rt)\n",
    "balanced_df['tweet_text'] = balanced_df['tweet_text'].apply(clean_text)"
   ]
  },
  {
   "cell_type": "markdown",
   "metadata": {},
   "source": [
    "## 3. SVM for Topic Classification"
   ]
  },
  {
   "cell_type": "markdown",
   "metadata": {},
   "source": [
    "Split the data into train and test sets for modeling and run through the SVM model."
   ]
  },
  {
   "cell_type": "code",
   "execution_count": 18,
   "metadata": {},
   "outputs": [],
   "source": [
    "X = balanced_df['tweet_text']\n",
    "y = balanced_df['class_label']\n",
    "X_train, X_test, y_train, y_test = train_test_split(X, y, test_size=0.3, random_state = 42)"
   ]
  },
  {
   "cell_type": "markdown",
   "metadata": {},
   "source": [
    "Deploy the training set on a linear SVM model that is contained within a pipeline to combine the following steps:\n",
    "1. **CountVectorizer**: to turn each tweet text into a matrix for unique words counts\n",
    "2. **TFIDF Transformer**: to transfer the count matrices into a TFIDF format\n",
    "3. **Linear SVM Classifier**: the model to classify each given tweet text"
   ]
  },
  {
   "cell_type": "code",
   "execution_count": 19,
   "metadata": {},
   "outputs": [
    {
     "name": "stdout",
     "output_type": "stream",
     "text": [
      "accuracy 0.9805327868852459\n",
      "                                   precision    recall  f1-score   support\n",
      "\n",
      "infrastructure_and_utility_damage       0.98      0.98      0.98       509\n",
      "         requests_or_urgent_needs       0.98      0.98      0.98       467\n",
      "\n",
      "                         accuracy                           0.98       976\n",
      "                        macro avg       0.98      0.98      0.98       976\n",
      "                     weighted avg       0.98      0.98      0.98       976\n",
      "\n"
     ]
    }
   ],
   "source": [
    "sgd = Pipeline([('vect', CountVectorizer()),\n",
    "                ('tfidf', TfidfTransformer()),\n",
    "                ('clf', SGDClassifier(loss='hinge', penalty='l2',alpha=1e-3, random_state=42, max_iter=10, tol=None)),\n",
    "               ])\n",
    "sgd.fit(X_train, y_train)\n",
    "\n",
    "y_pred = sgd.predict(X_test)\n",
    "my_tags = list(balanced_df['class_label'].unique())\n",
    "print('accuracy %s' % accuracy_score(y_pred, y_test))\n",
    "print(classification_report(y_test, y_pred,target_names=my_tags))"
   ]
  },
  {
   "cell_type": "markdown",
   "metadata": {},
   "source": [
    "We can see that SVM gives us an accuracy of **98%**, along with correspondingly high precision, recall, and f1-score values."
   ]
  },
  {
   "cell_type": "code",
   "execution_count": 36,
   "metadata": {},
   "outputs": [
    {
     "data": {
      "image/png": "[encoded data removed]",
      "text/plain": [
       "<Figure size 432x288 with 2 Axes>"
      ]
     },
     "metadata": {
      "needs_background": "light"
     },
     "output_type": "display_data"
    }
   ],
   "source": [
    "# Graphing confusion matrix\n",
    "confusion_matrix = metrics.confusion_matrix(y_test, y_pred)\n",
    "cm_display = metrics.ConfusionMatrixDisplay(confusion_matrix = confusion_matrix, \\\n",
    "                                        display_labels = [\"infrastructure and\\nutility damage\", \"requests or\\nurgent needs\"])\n",
    "cm_display.plot()\n",
    "plt.show()"
   ]
  },
  {
   "cell_type": "markdown",
   "metadata": {},
   "source": [
    "As can be seen in the confusion matrix above, the SVM model performs remarkably well on the given test set, predicting both \"infrastructure and utility damage\" and \"requests or urgent needs\" tweets with considerable accuracy. This projects a promising note for CERA, as future development of SVM would allow for more specific, helpful topics such as fire-related issues, unstable structures, etc."
   ]
  },
  {
   "cell_type": "markdown",
   "metadata": {},
   "source": [
    "## 4. Validating SVM on Custom Data"
   ]
  },
  {
   "cell_type": "markdown",
   "metadata": {},
   "source": [
    "While disaster data is helpful in observing the implications of SVM, we would like to apply SVM to pole-specific reports and look at the ways it identified the topic of various potential reports. In this section, we will do so by viewing SVM topic classification performance on manually created articifical pole reports.\n",
    "\n",
    "These will include the same pole reports used in the `sentiment_urgency_analysis` notebook, with select additional reports."
   ]
  },
  {
   "cell_type": "code",
   "execution_count": 45,
   "metadata": {},
   "outputs": [
    {
     "data": {
      "text/html": [
       "<div>\n",
       "<style scoped>\n",
       "    .dataframe tbody tr th:only-of-type {\n",
       "        vertical-align: middle;\n",
       "    }\n",
       "\n",
       "    .dataframe tbody tr th {\n",
       "        vertical-align: top;\n",
       "    }\n",
       "\n",
       "    .dataframe thead th {\n",
       "        text-align: right;\n",
       "    }\n",
       "</style>\n",
       "<table border=\"1\" class=\"dataframe\">\n",
       "  <thead>\n",
       "    <tr style=\"text-align: right;\">\n",
       "      <th></th>\n",
       "      <th>report_text</th>\n",
       "      <th>label</th>\n",
       "    </tr>\n",
       "  </thead>\n",
       "  <tbody>\n",
       "    <tr>\n",
       "      <th>0</th>\n",
       "      <td>I saw this pole next to a tree, and it seemed ...</td>\n",
       "      <td>infrastructure_and_utility_damage</td>\n",
       "    </tr>\n",
       "    <tr>\n",
       "      <th>1</th>\n",
       "      <td>There is an open flame next to this pole that ...</td>\n",
       "      <td>requests_or_urgent_needs</td>\n",
       "    </tr>\n",
       "    <tr>\n",
       "      <th>2</th>\n",
       "      <td>A car just crashed into this pole and it is br...</td>\n",
       "      <td>requests_or_urgent_needs</td>\n",
       "    </tr>\n",
       "    <tr>\n",
       "      <th>3</th>\n",
       "      <td>This pole is leaning a little bit. I am concer...</td>\n",
       "      <td>infrastructure_and_utility_damage</td>\n",
       "    </tr>\n",
       "    <tr>\n",
       "      <th>4</th>\n",
       "      <td>This pole is making a buzzing noise, it is lou...</td>\n",
       "      <td>infrastructure_and_utility_damage</td>\n",
       "    </tr>\n",
       "  </tbody>\n",
       "</table>\n",
       "</div>"
      ],
      "text/plain": [
       "                                         report_text  \\\n",
       "0  I saw this pole next to a tree, and it seemed ...   \n",
       "1  There is an open flame next to this pole that ...   \n",
       "2  A car just crashed into this pole and it is br...   \n",
       "3  This pole is leaning a little bit. I am concer...   \n",
       "4  This pole is making a buzzing noise, it is lou...   \n",
       "\n",
       "                               label  \n",
       "0  infrastructure_and_utility_damage  \n",
       "1           requests_or_urgent_needs  \n",
       "2           requests_or_urgent_needs  \n",
       "3  infrastructure_and_utility_damage  \n",
       "4  infrastructure_and_utility_damage  "
      ]
     },
     "execution_count": 45,
     "metadata": {},
     "output_type": "execute_result"
    }
   ],
   "source": [
    "# Initialize synthetic data\n",
    "syn_data = data = [['I saw this pole next to a tree, and it seemed too exposed to the weather', 'infrastructure_and_utility_damage'], \\\n",
    "                   ['There is an open flame next to this pole that is wooden', 'requests_or_urgent_needs'], \\\n",
    "                   ['A car just crashed into this pole and it is broken.', 'requests_or_urgent_needs'], \\\n",
    "                   ['This pole is leaning a little bit. I am concerned.', 'infrastructure_and_utility_damage'], \\\n",
    "                   ['This pole is making a buzzing noise, it is loud and annoying.', 'infrastructure_and_utility_damage'], \\\n",
    "                   ['The wires are caught on a tree', 'infrastructure_and_utility_damage'], \\\n",
    "                   [\"There is a sound coming from this pole, I'm afraid it will cause an outage.\", \\\n",
    "                    'infrastructure_and_utility_damage'], ['Outage', 'requests_or_urgent_needs'], \\\n",
    "                   ['There are sparks coming from this pole, and it seems to \\\n",
    "                   be corroded.', 'infrastructure_and_utility_damage'], \\\n",
    "                   ['This pole seems to be damaged.', 'infrastructure_and_utility_damage'],\\\n",
    "                  ['This pole is emitting many sparks and people are in danger of getting hurt.', 'requests_or_urgent_needs'], \\\n",
    "                  ['This pole need to be fixed right away. I fear that there will be dangerous repurcussions.', 'requests_or_urgent_needs'], \\\n",
    "                  ['Can you please come check this pole? It is making me worry.', 'requests_or_urgent_needs']]\n",
    "\n",
    "# Create the DataFrame\n",
    "sample_df = pd.DataFrame(syn_data, columns=['report_text', 'label'])\n",
    "sample_df.head()"
   ]
  },
  {
   "cell_type": "markdown",
   "metadata": {},
   "source": [
    "We will first clean the text data to prepare it for topic classification by SVM."
   ]
  },
  {
   "cell_type": "code",
   "execution_count": 46,
   "metadata": {},
   "outputs": [],
   "source": [
    "sample_df['report_text'] = sample_df['report_text'].apply(clean_text)"
   ]
  },
  {
   "cell_type": "markdown",
   "metadata": {},
   "source": [
    "Predict the labels from the mock data with our trained SVM model."
   ]
  },
  {
   "cell_type": "code",
   "execution_count": 47,
   "metadata": {},
   "outputs": [],
   "source": [
    "sample_pred = sgd.predict(sample_df['report_text'])"
   ]
  },
  {
   "cell_type": "code",
   "execution_count": 48,
   "metadata": {},
   "outputs": [
    {
     "data": {
      "image/png": "[encoded data removed]",
      "text/plain": [
       "<Figure size 432x288 with 2 Axes>"
      ]
     },
     "metadata": {
      "needs_background": "light"
     },
     "output_type": "display_data"
    }
   ],
   "source": [
    "# Graph the confusion matrix of the predictions on the mock data\n",
    "sample_conf_matrix = metrics.confusion_matrix(sample_df['label'], sample_pred)\n",
    "cm_display = metrics.ConfusionMatrixDisplay(confusion_matrix = sample_conf_matrix, \\\n",
    "                                        display_labels = [\"infrastructure and\\nutility damage\", \"requests or\\nurgent needs\"])\n",
    "cm_display.plot()\n",
    "plt.show()"
   ]
  },
  {
   "cell_type": "markdown",
   "metadata": {},
   "source": [
    "We see that the model performs moderately well on the mock data, although not perfect. While accuracy is a concern for CERA, we hope for future development to be able to include more specific and helpful topics for NLP classification. Further, the two topics that were utilized for training and validation, \"infrastructure_and_utility_damage\" and \"requests_or_urgent_needs\", **in the context of pole reports, do not present a major contrast.** For our proof of concept purposes at this time however, the used topics prove sufficient."
   ]
  },
  {
   "cell_type": "code",
   "execution_count": null,
   "metadata": {},
   "outputs": [],
   "source": []
  }
 ],
 "metadata": {
  "kernelspec": {
   "display_name": "Python 3 (ipykernel)",
   "language": "python",
   "name": "python3"
  },
  "language_info": {
   "codemirror_mode": {
    "name": "ipython",
    "version": 3
   },
   "file_extension": ".py",
   "mimetype": "text/x-python",
   "name": "python",
   "nbconvert_exporter": "python",
   "pygments_lexer": "ipython3",
   "version": "3.8.5"
  }
 },
 "nbformat": 4,
 "nbformat_minor": 2
}
